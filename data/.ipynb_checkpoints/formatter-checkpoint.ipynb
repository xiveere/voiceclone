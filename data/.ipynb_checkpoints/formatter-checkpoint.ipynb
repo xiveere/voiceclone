{
 "cells": [
  {
   "cell_type": "code",
   "execution_count": 45,
   "id": "658af259-c07e-497a-b24f-d712389c23c2",
   "metadata": {},
   "outputs": [],
   "source": [
    "import os\n",
    "import regex as re"
   ]
  },
  {
   "cell_type": "code",
   "execution_count": 46,
   "id": "e613ac8b-0cad-4810-8a3e-54a6bda7ec1e",
   "metadata": {},
   "outputs": [],
   "source": [
    "# Formatter for transcripts\n",
    "\n",
    "def file_concat_suffix(file_name, suffix):\n",
    "    return file_name.replace('.txt', '') + \"_\" + suffix + \".txt\""
   ]
  },
  {
   "cell_type": "code",
   "execution_count": 49,
   "id": "64ad204f-f5b7-4018-a5a5-36445f6fd65b",
   "metadata": {},
   "outputs": [],
   "source": [
    "def transcript_omitter(file):\n",
    "    omit_lines = []\n",
    "    wavs = os.listdir(\"wavs/\")\n",
    "    \n",
    "    with open(file) as f:\n",
    "        text = f.readlines()\n",
    "    f.close()\n",
    "\n",
    "    for index in range(len(text)):\n",
    "        line = text[index]\n",
    "\n",
    "        if \"|\" not in line:\n",
    "            omit_lines.append(index)\n",
    "            continue\n",
    "\n",
    "        wav, transcript = line.split(\"|\")\n",
    "\n",
    "        if wav not in wavs:\n",
    "            omit_lines.append(index)\n",
    "            continue\n",
    "        \n",
    "        if len(transcript) > 400:\n",
    "            omit_lines.append(index)\n",
    "    \n",
    "    for omit_index in sorted(omit_lines, reverse = True):\n",
    "        del text[omit_index]\n",
    "\n",
    "    new_text = ''.join(text)\n",
    "\n",
    "    new_file_name = file_concat_suffix(file, \"omitted\")\n",
    "    new_file = open(new_file_name, 'w')\n",
    "\n",
    "    new_file.write(new_text)\n",
    "    new_file.close()\n",
    "\n",
    "transcript_omitter('Mixed.txt',)"
   ]
  },
  {
   "cell_type": "code",
   "execution_count": 52,
   "id": "8d16607c-1b70-4df0-a824-d92309a4c1de",
   "metadata": {
    "scrolled": true
   },
   "outputs": [],
   "source": [
    "from pydub import AudioSegment\n",
    "from os import listdir\n",
    "from os.path import isfile, join\n",
    "import librosa\n",
    "import soundfile as sf\n",
    "\n",
    "# Turn all stereo to mono\n",
    "wavs = [join(\"wavs/\", file) for file in listdir(\"wavs\") if isfile(join(\"wavs/\", file))]\n",
    "\n",
    "for wav_path in wavs:\n",
    "    # print(wav_path)\n",
    "\n",
    "    try:\n",
    "        sound = AudioSegment.from_wav(wav_path)\n",
    "        sound = sound.set_frame_rate(22050)\n",
    "        sound = sound.set_channels(1)\n",
    "        sound.export(wav_path, format=\"wav\", )\n",
    "    except:\n",
    "        y, sr = librosa.load(wav_path, sr=22050)\n",
    "        sf.write(wav_path, librosa.to_mono(y), 22050, format = 'wav')"
   ]
  },
  {
   "cell_type": "code",
   "execution_count": 53,
   "id": "1dc543c7-1e62-462e-8e7f-c90f1dfcbac8",
   "metadata": {},
   "outputs": [],
   "source": [
    "def transcript_formatter(file, omitted = True):\n",
    "    if omitted:\n",
    "        with open(file_concat_suffix(file, \"omitted\")) as f:\n",
    "            text = f.read()\n",
    "        f.close()\n",
    "        \n",
    "    else:\n",
    "        with open(file) as f:\n",
    "            text = f.read()\n",
    "        f.close()\n",
    "\n",
    "    replacements = {'.wav' : '',\n",
    "                    '%' : 'percent',\n",
    "                    '’' : \"'\",\n",
    "                    '–' : '-',\n",
    "                    # ')' : '',\n",
    "                    # '(' : '',\n",
    "                    '‘' : '',\n",
    "                    # '_' : ' ',\n",
    "                    '[laughter]' : 'hahaha',\n",
    "                    '[Laughter]' : 'hahaha',\n",
    "                    '<laughs>' : 'hahaha',\n",
    "                    '<laugh>' : 'hahaha',\n",
    "                    '<' : '',\n",
    "                    '>' : '',\n",
    "}\n",
    "\n",
    "    for word, replacement in replacements.items():\n",
    "        text = text.replace(word, replacement)\n",
    "    \n",
    "    new_file_name = file_concat_suffix(file, \"formatted\")\n",
    "    new_file = open(new_file_name, 'w')\n",
    "    \n",
    "    new_file.write(text)\n",
    "    new_file.close()\n",
    "\n",
    "transcript_formatter('Mixed.txt', True)"
   ]
  },
  {
   "cell_type": "code",
   "execution_count": 1,
   "id": "7e88c947-9530-403b-b323-6f44ba1ec48c",
   "metadata": {},
   "outputs": [
    {
     "data": {
      "text/plain": [
       "413"
      ]
     },
     "execution_count": 1,
     "metadata": {},
     "output_type": "execute_result"
    }
   ],
   "source": [
    "len(\"Like brain off 25 IQ people play York. If good players played York, they'd win every game. So he needs no buff. I'm just saying. It's true. The champ's fucking broken. It's true. If I, if I, I don't, I don't. If I start seeing York in my game, I'll just instant, firstly, I'll dodge and then if I keep seeing him after he, after I dodge, I'll start Perving him. This is the abomination of League of Legends, York.\")"
   ]
  },
  {
   "cell_type": "code",
   "execution_count": 12,
   "id": "93f2028f-e76a-4c8a-b3fe-0aee64f35c13",
   "metadata": {},
   "outputs": [
    {
     "data": {
      "text/plain": [
       "632"
      ]
     },
     "execution_count": 12,
     "metadata": {},
     "output_type": "execute_result"
    }
   ],
   "source": [
    "with open('Mixed_formatted.txt') as f:\n",
    "    text = f.readlines()\n",
    "\n",
    "transcripts_max_tokens = max([len(line.split(\"|\")[1]) for line in text])\n",
    "transcripts_max_tokens"
   ]
  },
  {
   "cell_type": "code",
   "execution_count": 14,
   "id": "212acdca-76ed-478a-831b-80d01aa80dd9",
   "metadata": {},
   "outputs": [
    {
     "name": "stdout",
     "output_type": "stream",
     "text": [
      "22050\n"
     ]
    }
   ],
   "source": [
    "from pydub.utils import mediainfo\n",
    ">>> info = mediainfo(\"wavs/Tyler (145).wav\")\n",
    ">>> print(info['sample_rate'])"
   ]
  }
 ],
 "metadata": {
  "kernelspec": {
   "display_name": "Python 3 (ipykernel)",
   "language": "python",
   "name": "python3"
  },
  "language_info": {
   "codemirror_mode": {
    "name": "ipython",
    "version": 3
   },
   "file_extension": ".py",
   "mimetype": "text/x-python",
   "name": "python",
   "nbconvert_exporter": "python",
   "pygments_lexer": "ipython3",
   "version": "3.10.13"
  }
 },
 "nbformat": 4,
 "nbformat_minor": 5
}
