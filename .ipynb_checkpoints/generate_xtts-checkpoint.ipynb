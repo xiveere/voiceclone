{
 "cells": [
  {
   "cell_type": "markdown",
   "id": "26f8468d-8cdf-4285-a723-aca0eab4a09a",
   "metadata": {},
   "source": [
    "# Generate"
   ]
  },
  {
   "cell_type": "markdown",
   "id": "6e3c6cfc-c103-45f4-84f9-162a3181d295",
   "metadata": {},
   "source": [
    "### Init model"
   ]
  },
  {
   "cell_type": "code",
   "execution_count": null,
   "id": "abb7282c-dd76-4ae7-9bfa-855ce7484f29",
   "metadata": {},
   "outputs": [],
   "source": [
    "import os\n",
    "import torch\n",
    "import torchaudio\n",
    "from TTS.tts.configs.xtts_config import XttsConfig\n",
    "from TTS.tts.models.xtts import Xtts\n",
    "from subprocess import getoutput\n",
    "from IPython.display import Audio\n",
    "\n",
    "\n",
    "# Add here the xtts_config path\n",
    "CONFIG_PATH = \"xttsv2_checkpoint/tyler1_xttsv2-February-28-2024_08+23AM-2b31060/config.json\"\n",
    "# Add here the vocab file that you have used to train the model\n",
    "TOKENIZER_PATH = \"xttsv2_checkpoint/XTTS_v2.0_original_model_files/vocab.json\"\n",
    "# Add here the checkpoint that you want to do inference with\n",
    "XTTS_CHECKPOINT = \"xttsv2_checkpoint/tyler1_xttsv2-February-28-2024_08+23AM-2b31060/best_model.pth\"\n",
    "\n",
    "# List of all wavs for speaker reference\n",
    "wavs = getoutput(\"ls data/wavs/*.wav\").split(\"\\n\")\n",
    "# Add here the speaker reference\n",
    "SPEAKER_REFERENCE = [\"data/wavs/\" + wav for wav in os.listdir('data/wavs/') if \"wav\" in wav]\n",
    "\n",
    "# output wav path\n",
    "OUTPUT_WAV_PATH = \"generated_audio/xtts_output_es.wav\"\n",
    "\n",
    "\n",
    "config = XttsConfig()\n",
    "config.load_json(CONFIG_PATH)\n",
    "model = Xtts.init_from_config(config)\n",
    "model.load_checkpoint(config, checkpoint_path=XTTS_CHECKPOINT, vocab_path=TOKENIZER_PATH, use_deepspeed=False)\n",
    "model.cuda()\n",
    "\n",
    "gpt_cond_latent, speaker_embedding = model.get_conditioning_latents(audio_path= SPEAKER_REFERENCE)"
   ]
  },
  {
   "cell_type": "markdown",
   "id": "872fb552-b974-42cf-b5f8-7315326d2be7",
   "metadata": {},
   "source": [
    "### Output"
   ]
  },
  {
   "cell_type": "code",
   "execution_count": null,
   "id": "e308193a-2ab6-4f8b-9317-1729f18ddbc7",
   "metadata": {},
   "outputs": [],
   "source": [
    "import time\n",
    "\n",
    "# output wav path\n",
    "OUTPUT_WAV_PATH = \"generated_audio/xtts_output_de.wav\"\n",
    "\n",
    "start = time.time()\n",
    "out = model.inference(\n",
    "    # \"So he starts off level one just doing this. Like oh he's gonna like bro he losing, doesn't hit a single thing. Look at it like- what the fuck. Like bro okay whatever. Watch this top dive bro. I solo made Vayne one HP, right? Just wait out and fucking ghost, you twat.\",\n",
    "    # \"en\",\n",
    "    # \"Esta es mi voz en español. ¡Es Tyler1, bebé! Joder, si, hablo español.\",\n",
    "    # \"es\",\n",
    "    \"Hallo Isi, hier ist Tyler1 und das ist meine Stimme auf Deutsch. Willlkommen in Manila. Ich hoffe du hast eine gute Zeit und wirst viel Spass haben. Vergiss nicht deinen Lümmel einzutüte\",\n",
    "    \"de\",\n",
    "    # \"C'est ma voix en français. C'est Tyler 1 bébé ! Putain ouais je parle français. J'ai mangé un croissant et une baguette today\",\n",
    "    # \"fr\",\n",
    "    gpt_cond_latent,\n",
    "    speaker_embedding,\n",
    "    temperature=0.7, # Add custom parameters here\n",
    ")\n",
    "torchaudio.save(OUTPUT_WAV_PATH, torch.tensor(out[\"wav\"]).unsqueeze(0), 24000)\n",
    "\n",
    "end = time.time()\n",
    "print(end-start)\n",
    "\n",
    "Audio(OUTPUT_WAV_PATH)"
   ]
  },
  {
   "cell_type": "markdown",
   "id": "e8a27997-a563-4e4a-9f9b-ea97786a0c35",
   "metadata": {},
   "source": [
    "# Push to S3"
   ]
  },
  {
   "cell_type": "code",
   "execution_count": 4,
   "id": "bf7e2ba3-34e2-401f-bb3c-d32f2695afb6",
   "metadata": {},
   "outputs": [],
   "source": [
    "import boto3\n",
    "\n",
    "bucket_name = \"audio-messages-bucket\"\n",
    "file_path = \"generated_audio/bass_boosted/xtts_output-bass_boost.wav\"\n",
    "key =  \"username/tyler1/game_id/timestamp.wav\"\n",
    "\n",
    "url = \"https://d1d78cjctwypjb.cloudfront.net/\" + key "
   ]
  },
  {
   "cell_type": "code",
   "execution_count": 5,
   "id": "47098d6f-9944-40fe-9689-55c690e1b5c6",
   "metadata": {},
   "outputs": [],
   "source": [
    "import boto3\n",
    "from botocore.exceptions import NoCredentialsError\n",
    "\n",
    "def upload_file_to_s3(file_path, bucket_name, s3_key):\n",
    "    \"\"\"\n",
    "    Upload a file to an S3 bucket\n",
    "\n",
    "    :param file_path: Path to file to upload\n",
    "    :param bucket_name: Name of the bucket to upload to\n",
    "    :param s3_key: S3 object name. If not specified, file_path is used\n",
    "    :return: True if file was uploaded, else False\n",
    "    \"\"\"\n",
    "    # If S3 object name is not specified, use the file name\n",
    "    if s3_key is None:\n",
    "        s3_key = file_path.split('/')[-1]\n",
    "\n",
    "    # Create an S3 client\n",
    "    s3_client = boto3.client('s3')\n",
    "    try:\n",
    "        # Upload the file\n",
    "        s3_client.upload_file(file_path, bucket_name, s3_key)\n",
    "        print(f\"File {file_path} uploaded to {bucket_name}/{s3_key}.\")\n",
    "        return True\n",
    "    except NoCredentialsError:\n",
    "        print(\"Credentials not available or invalid.\")\n",
    "        return False\n",
    "    except Exception as e:\n",
    "        print(f\"Failed to upload file: {e}\")\n",
    "        return False"
   ]
  },
  {
   "cell_type": "code",
   "execution_count": 6,
   "id": "b35308c6-f591-438e-9eaa-a8816b4d60c0",
   "metadata": {},
   "outputs": [
    {
     "name": "stdout",
     "output_type": "stream",
     "text": [
      "File generated_audio/bass_boosted/xtts_output-bass_boost.wav uploaded to audio-messages-bucket/username/tyler1/game_id/timestamp.wav.\n"
     ]
    },
    {
     "data": {
      "text/plain": [
       "True"
      ]
     },
     "execution_count": 6,
     "metadata": {},
     "output_type": "execute_result"
    }
   ],
   "source": [
    "upload_file_to_s3(file_path, bucket_name, key)"
   ]
  }
 ],
 "metadata": {
  "kernelspec": {
   "display_name": "Python 3 (ipykernel)",
   "language": "python",
   "name": "python3"
  },
  "language_info": {
   "codemirror_mode": {
    "name": "ipython",
    "version": 3
   },
   "file_extension": ".py",
   "mimetype": "text/x-python",
   "name": "python",
   "nbconvert_exporter": "python",
   "pygments_lexer": "ipython3",
   "version": "3.10.13"
  }
 },
 "nbformat": 4,
 "nbformat_minor": 5
}
