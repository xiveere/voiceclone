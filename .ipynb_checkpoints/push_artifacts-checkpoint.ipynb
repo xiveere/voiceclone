{
 "cells": [
  {
   "cell_type": "code",
   "execution_count": 10,
   "id": "cb2a3a0f-c154-414b-986f-7566c8b143fc",
   "metadata": {},
   "outputs": [],
   "source": [
    "import os\n",
    "import boto3\n",
    "from botocore.exceptions import NoCredentialsError\n",
    "\n",
    "bucket_name = \"tts-models-bucket\"\n",
    "url = \"https://dj8papuy9l58u.cloudfront.net/\"\n",
    "\n",
    "def push_to_s3(file_path, bucket_name, s3_key):\n",
    "    \"\"\"\n",
    "    Upload a file to an S3 bucket\n",
    "\n",
    "    :param file_path: Path to file to upload\n",
    "    :param bucket_name: Name of the bucket to upload to\n",
    "    :param s3_key: S3 object name. If not specified, file_path is used\n",
    "    :return: True if file was uploaded, else False\n",
    "    \"\"\"\n",
    "    \n",
    "    # Create an S3 client\n",
    "    s3_client = boto3.client('s3')\n",
    "    try:\n",
    "        # Upload the file\n",
    "        s3_client.upload_file(file_path, bucket_name, s3_key)\n",
    "        print(f\"File {file_path} uploaded to {bucket_name}/{s3_key}.\")\n",
    "        return True\n",
    "    except NoCredentialsError:\n",
    "        print(\"Credentials not available or invalid.\")\n",
    "        return False\n",
    "    except Exception as e:\n",
    "        print(f\"Failed to upload file: {e}\")\n",
    "        return False"
   ]
  },
  {
   "cell_type": "code",
   "execution_count": 11,
   "id": "ddd833ce-e97a-44a0-b296-e236fb779c83",
   "metadata": {},
   "outputs": [
    {
     "name": "stdout",
     "output_type": "stream",
     "text": [
      "Failed to upload file: Failed to upload xttsv2_checkpoint/best_model.pth to tts-models/https://dj8papuy9l58u.cloudfront.net/: An error occurred (AccessDenied) when calling the CreateMultipartUpload operation: Access Denied\n",
      "Failed to upload file: Failed to upload xttsv2_checkpoint/config.json to tts-models/https://dj8papuy9l58u.cloudfront.net/: An error occurred (AccessDenied) when calling the PutObject operation: Access Denied\n",
      "Failed to upload file: Failed to upload xttsv2_checkpoint/trainer_0_log.txt to tts-models/https://dj8papuy9l58u.cloudfront.net/: An error occurred (AccessDenied) when calling the PutObject operation: Access Denied\n",
      "Failed to upload file: Failed to upload xttsv2_checkpoint/events.out.tfevents.1709108581.default.10671.0 to tts-models/https://dj8papuy9l58u.cloudfront.net/: An error occurred (AccessDenied) when calling the PutObject operation: Access Denied\n",
      "Failed to upload file: Failed to upload xttsv2_checkpoint/ipykernel_launcher.py to tts-models/https://dj8papuy9l58u.cloudfront.net/: An error occurred (AccessDenied) when calling the PutObject operation: Access Denied\n",
      "Failed to upload file: Failed to upload xttsv2_checkpoint/vocab.json to tts-models/https://dj8papuy9l58u.cloudfront.net/: An error occurred (AccessDenied) when calling the PutObject operation: Access Denied\n",
      "Failed to upload file: [Errno 21] Is a directory: 'xttsv2_checkpoint/.ipynb_checkpoints'\n"
     ]
    }
   ],
   "source": [
    "push_to_s3(\"model.tar.gz\", bucket_name, url)"
   ]
  }
 ],
 "metadata": {
  "kernelspec": {
   "display_name": "Python 3 (ipykernel)",
   "language": "python",
   "name": "python3"
  },
  "language_info": {
   "codemirror_mode": {
    "name": "ipython",
    "version": 3
   },
   "file_extension": ".py",
   "mimetype": "text/x-python",
   "name": "python",
   "nbconvert_exporter": "python",
   "pygments_lexer": "ipython3",
   "version": "3.10.13"
  }
 },
 "nbformat": 4,
 "nbformat_minor": 5
}
