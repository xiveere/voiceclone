{
 "cells": [
  {
   "cell_type": "code",
   "execution_count": 39,
   "id": "3853c2b8-3a4f-47b4-83c3-d77a610a8213",
   "metadata": {},
   "outputs": [],
   "source": [
    "import os\n",
    "from datetime import datetime\n",
    "import psycopg2\n",
    "from dotenv import load_dotenv\n",
    "\n",
    "load_dotenv()\n",
    "\n",
    "# Replace these variables with your actual database credentials\n",
    "database_url = os.getenv(\"DATABASE_URL\")\n",
    "\n",
    "conn = psycopg2.connect(database_url)"
   ]
  },
  {
   "cell_type": "code",
   "execution_count": 40,
   "id": "c7a7bbfd-9fab-49a2-9c42-4d8738aebf58",
   "metadata": {},
   "outputs": [],
   "source": [
    "table_name = \"message_generation\",\n",
    "username = \"username\"\n",
    "creator = \"creator\"\n",
    "gameid = 1\n",
    "timestamp = str(datetime.now())\n",
    "\n",
    "url = \"https://d1d78cjctwypjb.cloudfront.net/\"\n",
    "key = \"/\".join(username,language,creator,game_id,timestamp)\n",
    "link = url + key\n",
    "\n",
    "cur = conn.cursor()\n",
    "\n",
    "sql = \"\"\"\n",
    "UPDATE message_generation\n",
    "SET audio = %s\n",
    "WHERE id = %s\n",
    "\"\"\"\n",
    "\n",
    "data = (link, id)\n",
    "\n",
    "# # Execute the command and pass in the data\n",
    "cur.execute(sql, data)\n",
    "\n",
    "conn.commit()\n",
    "cur.close()\n",
    "conn.close()"
   ]
  },
  {
   "cell_type": "markdown",
   "id": "701767cb-310d-4224-96fc-e442ec620e0e",
   "metadata": {},
   "source": [
    "# Create table DO NOT RUN"
   ]
  },
  {
   "cell_type": "code",
   "execution_count": 18,
   "id": "f667c2f2-9eae-4ec6-859b-88e3ddc5ee30",
   "metadata": {},
   "outputs": [],
   "source": [
    "# import psycopg2\n",
    "# import os\n",
    "# from dotenv import load_dotenv\n",
    "\n",
    "# load_dotenv()\n",
    "\n",
    "# # Replace these variables with your actual database credentials\n",
    "# database_url = os.getenv(\"DATABASE_URL\")\n",
    "\n",
    "# conn = psycopg2.connect(database_url)"
   ]
  },
  {
   "cell_type": "code",
   "execution_count": 20,
   "id": "09399229-1727-4005-a8cf-57081725b9c2",
   "metadata": {},
   "outputs": [],
   "source": [
    "# cur = conn.cursor()\n",
    "\n",
    "# # Replace the SQL statement with your specific table creation SQL\n",
    "# cur.execute(\"\"\"\n",
    "#     CREATE TABLE audio (\n",
    "#         username VARCHAR(255),\n",
    "#         creator VARCHAR(255),\n",
    "#         gameid INTEGER,\n",
    "#         timestamp DATE\n",
    "#     );\n",
    "# \"\"\")\n",
    "\n",
    "# conn.commit()  # Commit the transaction\n",
    "# cur.close()\n",
    "# conn.close()  # Close the connection"
   ]
  }
 ],
 "metadata": {
  "kernelspec": {
   "display_name": "Python 3 (ipykernel)",
   "language": "python",
   "name": "python3"
  },
  "language_info": {
   "codemirror_mode": {
    "name": "ipython",
    "version": 3
   },
   "file_extension": ".py",
   "mimetype": "text/x-python",
   "name": "python",
   "nbconvert_exporter": "python",
   "pygments_lexer": "ipython3",
   "version": "3.10.13"
  }
 },
 "nbformat": 4,
 "nbformat_minor": 5
}
