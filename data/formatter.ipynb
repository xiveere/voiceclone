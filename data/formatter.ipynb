{
 "cells": [
  {
   "cell_type": "code",
   "execution_count": 3,
   "id": "658af259-c07e-497a-b24f-d712389c23c2",
   "metadata": {},
   "outputs": [],
   "source": [
    "import os\n",
    "import regex as re"
   ]
  },
  {
   "cell_type": "code",
   "execution_count": 13,
   "id": "e613ac8b-0cad-4810-8a3e-54a6bda7ec1e",
   "metadata": {},
   "outputs": [],
   "source": [
    "# Formatter for transcripts\n",
    "\n",
    "def file_concat_suffix(file_name, suffix):\n",
    "    return file_name.replace('.txt', '') + \"_\" + suffix + \".txt\""
   ]
  },
  {
   "cell_type": "code",
   "execution_count": 10,
   "id": "1dc543c7-1e62-462e-8e7f-c90f1dfcbac8",
   "metadata": {},
   "outputs": [],
   "source": [
    "omit_lines = [48, 49, 50, 51, 52]\n",
    "\n",
    "def transcript_omitter(file, omit_lines):\n",
    "    with open(file) as f:\n",
    "        text = f.readlines()\n",
    "    f.close()\n",
    "\n",
    "    for line in sorted(omit_lines, reverse = True):\n",
    "        del text[line-1]\n",
    "\n",
    "    new_text = ''.join(text)\n",
    "\n",
    "    new_file_name = file_concat_suffix(file, \"omitted\")\n",
    "    new_file = open(new_file_name, 'w')\n",
    "\n",
    "    new_file.write(new_text)\n",
    "    new_file.close()\n",
    "\n",
    "transcript_omitter('Mixed.txt', omit_lines)"
   ]
  },
  {
   "cell_type": "code",
   "execution_count": 12,
   "id": "5156e604-a73a-43c5-8629-e6f5d981ba25",
   "metadata": {},
   "outputs": [],
   "source": [
    "def transcript_formatter(file, omitted = True):\n",
    "    if omitted:\n",
    "        with open(file_concat_suffix(file, \"omitted\")) as f:\n",
    "            text = f.read()\n",
    "        f.close()\n",
    "        \n",
    "    else:\n",
    "        with open(file) as f:\n",
    "            text = f.read()\n",
    "        f.close()\n",
    "\n",
    "    replacements = {'.wav' : '',\n",
    "                    '%' : 'percent',\n",
    "                    '’' : \"'\",\n",
    "                    '–' : '-',\n",
    "                    ')' : '',\n",
    "                    '(' : '',\n",
    "                    '‘' : '',\n",
    "                    # '_' : ' ',\n",
    "                    '[laughter]' : 'hahaha',\n",
    "                    '[Laughter]' : 'hahaha'}\n",
    "\n",
    "    for word, replacement in replacements.items():\n",
    "        text = text.replace(word, replacement)\n",
    "        \n",
    "    formatted = text.replace('.wav', '')\n",
    "    \n",
    "    new_file_name = file_concat_suffix(file, \"formatted\")\n",
    "    new_file = open(new_file_name, 'w')\n",
    "    \n",
    "    new_file.write(formatted)\n",
    "    new_file.close()\n",
    "\n",
    "transcript_formatter('Mixed.txt')"
   ]
  },
  {
   "cell_type": "code",
   "execution_count": 18,
   "id": "93f2028f-e76a-4c8a-b3fe-0aee64f35c13",
   "metadata": {},
   "outputs": [
    {
     "data": {
      "text/plain": [
       "599"
      ]
     },
     "execution_count": 18,
     "metadata": {},
     "output_type": "execute_result"
    }
   ],
   "source": [
    "with open('Mixed_formatted.txt') as f:\n",
    "    text = f.readlines()\n",
    "\n",
    "transcripts = max([len(line.split(\"|\")[1]) for line in text])\n",
    "transcripts"
   ]
  },
  {
   "cell_type": "code",
   "execution_count": 15,
   "id": "8d16607c-1b70-4df0-a824-d92309a4c1de",
   "metadata": {
    "scrolled": true
   },
   "outputs": [
    {
     "data": {
      "text/plain": [
       "['wavs/12. Tyler1HeartCondition10.wav',\n",
       " 'wavs/59. Tyler1 RAGE and TILT Reacting to 13.12 LoL Patch Notes 9.wav',\n",
       " 'wavs/29. Tyler1 x Fortnite LEAKED.wav',\n",
       " 'wavs/4. Tyler1HeartCondition2.wav',\n",
       " 'wavs/19. Tyler1 Discovered The Reason Behind His Head Dent.wav',\n",
       " 'wavs/22. RX Tyler1 on the HUGE League of Legends DRAMA_01.wav',\n",
       " 'wavs/10. Tyler1HeartCondition8.wav',\n",
       " 'wavs/5. Tyler1HeartCondition3.wav',\n",
       " 'wavs/56. Tyler1 RAGE and TILT Reacting to 13.12 LoL Patch Notes 6.wav',\n",
       " 'wavs/45. Tyler1 on US Meet and Greet 1.wav',\n",
       " 'wavs/20. Tyler1 vs The Most Creative RACIST in The Chat.wav',\n",
       " 'wavs/32. Tyler1 Reveals His Daughter Name.wav',\n",
       " 'wavs/44. Tyler1 Almost Didn_t Made It To The Meet and Greet 4.wav',\n",
       " 'wavs/28. RX Tyler1 Accepts His 6 Years Old Friend Invites 4.wav',\n",
       " 'wavs/14. Tyler1HeartCondition12.wav',\n",
       " 'wavs/51. Tyler1 RAGE and TILT Reacting to 13.12 LoL Patch Notes.wav',\n",
       " 'wavs/63. Tyler1 on LCS Walkout 3.wav',\n",
       " 'wavs/17. Tyler1HeartCondition15.wav',\n",
       " 'wavs/40. Riot Please FIX THE GAME.wav',\n",
       " 'wavs/50. Tyler1 Shows His $21,000 Couch IRL 2.wav',\n",
       " 'wavs/21. RX Tyler1 - League Players Make Fun of Dadler1_01.wav',\n",
       " 'wavs/30. Tyler1 on Macaiyla_s Pregnancy Privileges.wav',\n",
       " 'wavs/57. Tyler1 RAGE and TILT Reacting to 13.12 LoL Patch Notes 7.wav',\n",
       " 'wavs/24. RX Tyler1 is WORRIED About His Child_01.wav',\n",
       " 'wavs/54. Tyler1 RAGE and TILT Reacting to 13.12 LoL Patch Notes 4.wav',\n",
       " 'wavs/13. Tyler1HeartCondition11.wav',\n",
       " 'wavs/65. Tyler1 on LCS Walkout 5.wav',\n",
       " 'wavs/16. Tyler1HeartCondition14.wav',\n",
       " 'wavs/66. Tyler1 on LCS Walkout 6.wav',\n",
       " 'wavs/43. Tyler1 Almost Didn_t Made It To The Meet and Greet 3.wav',\n",
       " 'wavs/62. Tyler1 on LCS Walkout  2.wav',\n",
       " 'wavs/3. Tyler1HeartCondition1.wav',\n",
       " 'wavs/35. Tyler1 Rap 3.wav',\n",
       " 'wavs/25. RX Tyler1 Accepts His 6 Years Old Friend Invites 1.wav',\n",
       " 'wavs/23. RX Tyler1 on his Child_s Gender_01.wav',\n",
       " 'wavs/27. RX Tyler1 Accepts His 6 Years Old Friend Invites 3.wav',\n",
       " 'wavs/61. Tyler1 on LCS Walkout 1.wav',\n",
       " 'wavs/18. Tyler1HeartCondition16.wav',\n",
       " 'wavs/52. Tyler1 RAGE and TILT Reacting to 13.12 LoL Patch Notes 2.wav',\n",
       " 'wavs/60. Tyler1 RAGE and TILT Reacting to 13.12 LoL Patch Notes 10.wav',\n",
       " 'wavs/39. Tyler1 about his Brother_s Daughter Emmy 2.wav',\n",
       " 'wavs/37. Tyler1 Rant 1.wav',\n",
       " 'wavs/31. Tyler1 Finds REAL Monkey in Chat.wav',\n",
       " 'wavs/55. Tyler1 RAGE and TILT Reacting to 13.12 LoL Patch Notes 5.wav',\n",
       " 'wavs/2. Tyler1 Superbowl HYPE.wav',\n",
       " 'wavs/33. Tyler1 Rap 1.wav',\n",
       " 'wavs/47. Tyler1 on US Meet and Greet 3.wav',\n",
       " 'wavs/6. Tyler1HeartCondition4.wav',\n",
       " 'wavs/26. RX Tyler1 Accepts His 6 Years Old Friend Invites 2.wav',\n",
       " 'wavs/42. Tyler1 Almost Didn_t Made It To The Meet and Greet 2.wav',\n",
       " 'wavs/1. Tyler1_THE_WORST_JUNGLER_EVER.wav',\n",
       " 'wavs/15. Tyler1HeartCondition13.wav',\n",
       " 'wavs/46. Tyler1 on US Meet and Greet 2.wav',\n",
       " 'wavs/68. Tyler1 on His Niece Emmy 2.wav',\n",
       " 'wavs/38. Tyler1 about his Brother_s Daughter Emmy.wav',\n",
       " 'wavs/53. Tyler1 RAGE and TILT Reacting to 13.12 LoL Patch Notes 3.wav',\n",
       " 'wavs/11. Tyler1HeartCondition9.wav',\n",
       " 'wavs/41. Tyler1 Almost Didn_t Made It To The Meet and Greet 1.wav',\n",
       " 'wavs/70. Tyler1 Heart Condition UPDATE 2.wav',\n",
       " 'wavs/48. Tyler1 on US Meet and Greet 4.wav',\n",
       " 'wavs/64. Tyler1 on LCS Walkout 4.wav',\n",
       " 'wavs/7. Tyler1HeartCondition5.wav',\n",
       " 'wavs/34. Tyler1 Rap 2.wav',\n",
       " 'wavs/58. Tyler1 RAGE and TILT Reacting to 13.12 LoL Patch Notes 8.wav',\n",
       " 'wavs/67. Tyler1 on His Niece Emmy 1.wav',\n",
       " 'wavs/9. Tyler1HeartCondition7.wav',\n",
       " 'wavs/49. Tyler1 Shows His $21,000 Couch IRL 1.wav',\n",
       " 'wavs/69. Tyler1 Heart Condition UPDATE 1.wav',\n",
       " 'wavs/8. Tyler1HeartCondition6.wav',\n",
       " 'wavs/36. Tyler1 Rap + Rant.wav']"
      ]
     },
     "execution_count": 15,
     "metadata": {},
     "output_type": "execute_result"
    }
   ],
   "source": [
    "from pydub import AudioSegment\n",
    "from os import listdir\n",
    "from os.path import isfile, join\n",
    "\n",
    "# Turn all stereo to mono\n",
    "wavs = [join(\"wavs/\", file) for file in listdir(\"wavs\") if isfile(join(\"wavs/\", file))]\n",
    "\n",
    "for wav_path in wavs:\n",
    "    sound = AudioSegment.from_wav(wav_path)\n",
    "    sound = sound.set_channels(1)\n",
    "    sound.export(wav_path, format=\"wav\")"
   ]
  }
 ],
 "metadata": {
  "kernelspec": {
   "display_name": "Python 3 (ipykernel)",
   "language": "python",
   "name": "python3"
  },
  "language_info": {
   "codemirror_mode": {
    "name": "ipython",
    "version": 3
   },
   "file_extension": ".py",
   "mimetype": "text/x-python",
   "name": "python",
   "nbconvert_exporter": "python",
   "pygments_lexer": "ipython3",
   "version": "3.10.13"
  }
 },
 "nbformat": 4,
 "nbformat_minor": 5
}
