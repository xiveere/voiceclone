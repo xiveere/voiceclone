{
 "cells": [
  {
   "cell_type": "code",
   "execution_count": 6,
   "id": "658af259-c07e-497a-b24f-d712389c23c2",
   "metadata": {},
   "outputs": [],
   "source": [
    "import os\n",
    "import regex as re\n",
    "\n",
    "def wav_remover(file):\n",
    "    with open(file) as f:\n",
    "        text = f.read()\n",
    "\n",
    "    replacements = {'.wav' : '',\n",
    "                    '%' : 'percent',\n",
    "                    '’' : \"'\",\n",
    "                    '–' : '-'}\n",
    "\n",
    "    for word, replacement in replacements.items()\n",
    "        text = text.replace(word, replacement)\n",
    "        \n",
    "    formatted = text.replace('.wav', '')\n",
    "\n",
    "    new_file_name = file.replace('.txt', '')\n",
    "    \n",
    "    new_file = open(new_file_name + '_formatted.txt', 'w')\n",
    "    new_file.write(formatted)\n",
    "    new_file.close()\n",
    "\n",
    "wav_remover('Mixed.txt')"
   ]
  }
 ],
 "metadata": {
  "kernelspec": {
   "display_name": "Python 3 (ipykernel)",
   "language": "python",
   "name": "python3"
  },
  "language_info": {
   "codemirror_mode": {
    "name": "ipython",
    "version": 3
   },
   "file_extension": ".py",
   "mimetype": "text/x-python",
   "name": "python",
   "nbconvert_exporter": "python",
   "pygments_lexer": "ipython3",
   "version": "3.10.13"
  }
 },
 "nbformat": 4,
 "nbformat_minor": 5
}
