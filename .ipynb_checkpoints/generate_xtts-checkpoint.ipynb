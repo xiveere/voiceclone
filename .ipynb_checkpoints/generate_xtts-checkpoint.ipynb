{
 "cells": [
  {
   "cell_type": "markdown",
   "id": "26f8468d-8cdf-4285-a723-aca0eab4a09a",
   "metadata": {},
   "source": [
    "# Generate"
   ]
  },
  {
   "cell_type": "markdown",
   "id": "6e3c6cfc-c103-45f4-84f9-162a3181d295",
   "metadata": {},
   "source": [
    "### Init model"
   ]
  },
  {
   "cell_type": "code",
   "execution_count": 1,
   "id": "abb7282c-dd76-4ae7-9bfa-855ce7484f29",
   "metadata": {},
   "outputs": [
    {
     "name": "stderr",
     "output_type": "stream",
     "text": [
      "2024-03-05 09:02:00.511712: I tensorflow/core/util/port.cc:110] oneDNN custom operations are on. You may see slightly different numerical results due to floating-point round-off errors from different computation orders. To turn them off, set the environment variable `TF_ENABLE_ONEDNN_OPTS=0`.\n",
      "2024-03-05 09:02:00.561803: I tensorflow/core/platform/cpu_feature_guard.cc:182] This TensorFlow binary is optimized to use available CPU instructions in performance-critical operations.\n",
      "To enable the following instructions: SSE4.1 SSE4.2 AVX AVX2 AVX512F AVX512_VNNI FMA, in other operations, rebuild TensorFlow with the appropriate compiler flags.\n"
     ]
    },
    {
     "name": "stdout",
     "output_type": "stream",
     "text": [
      " > Using model: xtts\n"
     ]
    }
   ],
   "source": [
    "import os\n",
    "import torch\n",
    "import torchaudio\n",
    "# from TTS.tts.configs.xtts_config import XttsConfig\n",
    "# from TTS.tts.models.xtts import Xtts\n",
    "from subprocess import getoutput\n",
    "from IPython.display import Audio\n",
    "from flask import Flask, request, jsonify\n",
    "import logging\n",
    "import time\n",
    "import boto3\n",
    "from botocore.exceptions import NoCredentialsError\n",
    "from TTS.tts.models import setup_model as setup_tts_model\n",
    "from TTS.config import load_config\n",
    "import time\n",
    "\n",
    "logging.basicConfig(filename = \"app.log\", level = logging.INFO, format='%(asctime)s%(levelname)s:%(message)s')\n",
    "logging.info(\"Starting model init\")\n",
    "start = time.time()\n",
    "app = Flask(__name__)\n",
    "\n",
    "# Add here the xtts_config path\n",
    "CONFIG_PATH = \"xttsv2_checkpoint/config.json\"\n",
    "# Add here the vocab file that you have used to train the model\n",
    "TOKENIZER_PATH = \"xttsv2_checkpoint/vocab.json\"\n",
    "# Add here the checkpoint that you want to do inference with\n",
    "XTTS_CHECKPOINT = \"xttsv2_checkpoint/best_model.pth\"\n",
    "\n",
    "# List of all wavs for speaker reference\n",
    "wavs = getoutput(\"ls data/wavs/*.wav\").split(\"\\n\")\n",
    "# Add here the speaker reference\n",
    "SPEAKER_REFERENCE = [\"data/wavs/\" + wav for wav in os.listdir('data/wavs/') if \"wav\" in wav]\n",
    "\n",
    "# config = XttsConfig()\n",
    "# config.load_json(CONFIG_PATH)\n",
    "# model = Xtts.init_from_config(config)\n",
    "config = load_config(CONFIG_PATH)\n",
    "model = setup_tts_model(config)\n",
    "model.load_checkpoint(config, checkpoint_dir = \"xttsv2_checkpoint/\",\n",
    "                      checkpoint_path=XTTS_CHECKPOINT, vocab_path=TOKENIZER_PATH, use_deepspeed=False)\n",
    "model.to(\"cuda\")\n",
    "\n",
    "gpt_cond_latent, speaker_embedding = model.get_conditioning_latents(audio_path= SPEAKER_REFERENCE)\n",
    "end = time.time()\n",
    "runtime = end - start\n",
    "\n",
    "logging.info(f\"Model init complete in {runtime}s\")"
   ]
  },
  {
   "cell_type": "markdown",
   "id": "b950ff16-570f-4c55-bd10-b1b3ec57f6f8",
   "metadata": {},
   "source": [
    "### S3 push"
   ]
  },
  {
   "cell_type": "code",
   "execution_count": 2,
   "id": "f771cbe7-6a32-4498-b65b-dbe76173da58",
   "metadata": {},
   "outputs": [],
   "source": [
    "bucket_name = \"audio-messages-bucket\"\n",
    "url = \"https://d1d78cjctwypjb.cloudfront.net/\"\n",
    "\n",
    "def push_to_s3(file_path, bucket_name, s3_key):\n",
    "    \"\"\"\n",
    "    Upload a file to an S3 bucket\n",
    "\n",
    "    :param file_path: Path to file to upload\n",
    "    :param bucket_name: Name of the bucket to upload to\n",
    "    :param s3_key: S3 object name. If not specified, file_path is used\n",
    "    :return: True if file was uploaded, else False\n",
    "    \"\"\"\n",
    "    \n",
    "    # Create an S3 client\n",
    "    s3_client = boto3.client('s3')\n",
    "    try:\n",
    "        # Upload the file\n",
    "        s3_client.upload_file(file_path, bucket_name, s3_key)\n",
    "        logging.info(f\"File {file_path} uploaded to {bucket_name}/{s3_key}.\")\n",
    "        return True\n",
    "    except NoCredentialsError:\n",
    "        logging.error(\"Credentials not available or invalid.\")\n",
    "        return False\n",
    "    except Exception as e:\n",
    "        logging.error(f\"Failed to upload file: {e}\")\n",
    "        return False"
   ]
  },
  {
   "cell_type": "markdown",
   "id": "11e7de10-238f-4db1-bbc0-840471c6932c",
   "metadata": {},
   "source": [
    "### Supabase push"
   ]
  },
  {
   "cell_type": "code",
   "execution_count": null,
   "id": "cd52235b-cc24-4517-9665-40de4c754405",
   "metadata": {},
   "outputs": [],
   "source": [
    "import os\n",
    "from datetime import datetime\n",
    "import psycopg2\n",
    "from dotenv import load_dotenv\n",
    "\n",
    "def push_to_supabase(user_id, creator, game_id, timestamp, link):\n",
    "\n",
    "    try:\n",
    "        load_dotenv()\n",
    "    \n",
    "        database_url = os.getenv(\"DATABASE_URL\")\n",
    "\n",
    "        logging.info(\"Connecting to database\")\n",
    "        conn = psycopg2.connect(database_url)\n",
    "    \n",
    "        table_name = \"message_generation\",\n",
    "        cur = conn.cursor()\n",
    "\n",
    "        logging.info(\"Writing to database\")\n",
    "        sql = \"\"\"\n",
    "        UPDATE message_generation\n",
    "        SET audio = %s\n",
    "        WHERE id = %s\n",
    "        \"\"\"\n",
    "        \n",
    "        data = (link, id)\n",
    "        \n",
    "        # Execute the command and pass in the data\n",
    "        cur.execute(sql, data)\n",
    "\n",
    "        \n",
    "        \n",
    "        conn.commit()\n",
    "        logging.info(f\"Audio link written to {table_name} in id = {id}\")\n",
    "        cur.close()\n",
    "        conn.close()\n",
    "        return True\n",
    "        \n",
    "    except Exception as e:\n",
    "        logging.error(f\"Failed to write to database: {str(e)}\")\n",
    "        return False"
   ]
  },
  {
   "cell_type": "markdown",
   "id": "872fb552-b974-42cf-b5f8-7315326d2be7",
   "metadata": {},
   "source": [
    "### Output"
   ]
  },
  {
   "cell_type": "code",
   "execution_count": 3,
   "id": "e308193a-2ab6-4f8b-9317-1729f18ddbc7",
   "metadata": {},
   "outputs": [],
   "source": [
    "@app.route('/inference', methods = ['POST'])\n",
    "def inference():\n",
    "    try:\n",
    "        request_data = request.json\n",
    "\n",
    "        # Model info\n",
    "        text = request_data['text']\n",
    "        language = request_data['language']\n",
    "        creator = request_data['creator']\n",
    "\n",
    "        # User info\n",
    "        user_id = request_data['user_id']\n",
    "        game_id = request_data['game_id']\n",
    "        timestamp = request_data['timestamp']\n",
    "        \n",
    "    except Exception as e:\n",
    "        logging.error(f\"Missing data: {str(e)}\")\n",
    "        return jsonify({'error': 'Missing data in request',\n",
    "                        'message' : str(e)})\n",
    "\n",
    "    \n",
    "    key = \"/\".join(user_id,language,creator,game_id,timestamp)\n",
    "    link = url + key\n",
    "    logging.info(f\"Request received for {key}. Starting inference\")\n",
    "    start = time.time()\n",
    "    \n",
    "    try:\n",
    "        out = model.inference(text, language,\n",
    "            gpt_cond_latent,\n",
    "            speaker_embedding,\n",
    "            temperature=0.7, # Add custom parameters here\n",
    "        )\n",
    "\n",
    "        out_path = \"output.wav\"\n",
    "        torchaudio.save(out_path, torch.tensor(out[\"wav\"]).unsqueeze(0), 22050)\n",
    "\n",
    "    except Exception as e:\n",
    "        logging.error(f\"Error during inference: {str(e)}\")\n",
    "        return jsonify({'error' : 'Error during inference')\n",
    "    \n",
    "    end = time.time()\n",
    "    logging.info(f\"Audio generated in {end}s\")\n",
    "\n",
    "    logging.info(f\"Pushing to S3 bucket\")\n",
    "    push_result = push_to_s3(out_path, bucket_name, link)\n",
    "\n",
    "    if push_result:\n",
    "        logging.info(f\"Pushed to {link}\")\n",
    "\n",
    "    else:\n",
    "        return jsonify({'error': 'Error during push to S3'})\n",
    "\n",
    "    push_result = push_to_supabase(user_id, creator, game_id, timestamp, link)\n",
    "\n",
    "    if push_result:\n",
    "        logging.info(f\"Pushed to {link}\")\n",
    "        return jsonify({'audio_url' : link,\n",
    "                        'run_time' : end-start})\n",
    "    else:\n",
    "        return jsonify({'error': 'Error during push to Supabase'})"
   ]
  },
  {
   "cell_type": "code",
   "execution_count": 4,
   "id": "f1b9f95e-e75f-4532-8264-3293faf9a912",
   "metadata": {},
   "outputs": [
    {
     "name": "stdout",
     "output_type": "stream",
     "text": [
      " * Serving Flask app '__main__'\n",
      " * Debug mode: on\n"
     ]
    },
    {
     "name": "stderr",
     "output_type": "stream",
     "text": [
      "Traceback (most recent call last):\n",
      "  File \"/opt/conda/lib/python3.10/runpy.py\", line 196, in _run_module_as_main\n",
      "    return _run_code(code, main_globals, None,\n",
      "  File \"/opt/conda/lib/python3.10/runpy.py\", line 86, in _run_code\n",
      "    exec(code, run_globals)\n",
      "  File \"/opt/conda/lib/python3.10/site-packages/ipykernel_launcher.py\", line 17, in <module>\n",
      "    app.launch_new_instance()\n",
      "  File \"/opt/conda/lib/python3.10/site-packages/traitlets/config/application.py\", line 1074, in launch_instance\n",
      "    app.initialize(argv)\n",
      "  File \"/opt/conda/lib/python3.10/site-packages/traitlets/config/application.py\", line 118, in inner\n",
      "    return method(app, *args, **kwargs)\n",
      "  File \"/opt/conda/lib/python3.10/site-packages/ipykernel/kernelapp.py\", line 692, in initialize\n",
      "    self.init_sockets()\n",
      "  File \"/opt/conda/lib/python3.10/site-packages/ipykernel/kernelapp.py\", line 331, in init_sockets\n",
      "    self.shell_port = self._bind_socket(self.shell_socket, self.shell_port)\n",
      "  File \"/opt/conda/lib/python3.10/site-packages/ipykernel/kernelapp.py\", line 253, in _bind_socket\n",
      "    return self._try_bind_socket(s, port)\n",
      "  File \"/opt/conda/lib/python3.10/site-packages/ipykernel/kernelapp.py\", line 229, in _try_bind_socket\n",
      "    s.bind(\"tcp://%s:%i\" % (self.ip, port))\n",
      "  File \"/opt/conda/lib/python3.10/site-packages/zmq/sugar/socket.py\", line 302, in bind\n",
      "    super().bind(addr)\n",
      "  File \"zmq/backend/cython/socket.pyx\", line 564, in zmq.backend.cython.socket.Socket.bind\n",
      "  File \"zmq/backend/cython/checkrc.pxd\", line 28, in zmq.backend.cython.checkrc._check_rc\n",
      "zmq.error.ZMQError: Address already in use (addr='tcp://127.0.0.1:59107')\n"
     ]
    },
    {
     "ename": "SystemExit",
     "evalue": "1",
     "output_type": "error",
     "traceback": [
      "An exception has occurred, use %tb to see the full traceback.\n",
      "\u001b[0;31mSystemExit\u001b[0m\u001b[0;31m:\u001b[0m 1\n"
     ]
    },
    {
     "name": "stderr",
     "output_type": "stream",
     "text": [
      "/opt/conda/lib/python3.10/site-packages/IPython/core/interactiveshell.py:3558: UserWarning: To exit: use 'exit', 'quit', or Ctrl-D.\n",
      "  warn(\"To exit: use 'exit', 'quit', or Ctrl-D.\", stacklevel=1)\n"
     ]
    }
   ],
   "source": [
    "app.run(debug = True)"
   ]
  }
 ],
 "metadata": {
  "kernelspec": {
   "display_name": "Python 3 (ipykernel)",
   "language": "python",
   "name": "python3"
  },
  "language_info": {
   "codemirror_mode": {
    "name": "ipython",
    "version": 3
   },
   "file_extension": ".py",
   "mimetype": "text/x-python",
   "name": "python",
   "nbconvert_exporter": "python",
   "pygments_lexer": "ipython3",
   "version": "3.10.13"
  }
 },
 "nbformat": 4,
 "nbformat_minor": 5
}
