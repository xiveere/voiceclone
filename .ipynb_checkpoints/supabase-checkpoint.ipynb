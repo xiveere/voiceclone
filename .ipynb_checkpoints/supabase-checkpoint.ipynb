{
 "cells": [
  {
   "cell_type": "code",
   "execution_count": 2,
   "id": "3853c2b8-3a4f-47b4-83c3-d77a610a8213",
   "metadata": {},
   "outputs": [
    {
     "ename": "SyntaxError",
     "evalue": "non-default argument follows default argument (1692565699.py, line 10)",
     "output_type": "error",
     "traceback": [
      "\u001b[0;36m  Cell \u001b[0;32mIn[2], line 10\u001b[0;36m\u001b[0m\n\u001b[0;31m    def add_user(username, creator = \"Tyler1\", game_id, timestamp):\u001b[0m\n\u001b[0m                                               ^\u001b[0m\n\u001b[0;31mSyntaxError\u001b[0m\u001b[0;31m:\u001b[0m non-default argument follows default argument\n"
     ]
    }
   ],
   "source": [
    "import os\n",
    "from supabase import create_client, Client\n",
    "import datetime\n",
    "\n",
    "# Replace these with your Supabase project URL and API key\n",
    "supabase_url: os.getenv(\"NEXT_PUBLIC_SUPABASE_URL\")\n",
    "supabase_key: os.getenv(\"NEXT_PUBLIC_SUPABASE_KEY\")  # Anon or Service Role Key\n",
    "supabase: Client = create_client(supabase_url, supabase_key)\n",
    "\n",
    "timestamp = str(datetime.datetime.now())\n",
    "\n",
    "def add_user(username, creator = \"Tyler1\", game_id, timestamp):\n",
    "    data = {\"username\": username, \"creator\": creator, game_id = 1, timestamp = timestamp}\n",
    "    response = supabase.table(\"audio\").insert(data).execute()\n",
    "\n",
    "    if response.error:\n",
    "        print(f\"Error: {response.error.message}\")\n",
    "    else:\n",
    "        print(\"User added successfully:\", response.data)\n",
    "\n",
    "# Example usage\n",
    "# add_user(\"newuser\", \"newuser@example.com\")"
   ]
  },
  {
   "cell_type": "markdown",
   "id": "701767cb-310d-4224-96fc-e442ec620e0e",
   "metadata": {},
   "source": [
    "# Create table DO NOT RUN"
   ]
  },
  {
   "cell_type": "code",
   "execution_count": 18,
   "id": "f667c2f2-9eae-4ec6-859b-88e3ddc5ee30",
   "metadata": {},
   "outputs": [],
   "source": [
    "# import psycopg2\n",
    "# import os\n",
    "# from dotenv import load_dotenv\n",
    "\n",
    "# load_dotenv()\n",
    "\n",
    "# # Replace these variables with your actual database credentials\n",
    "# database_url = os.getenv(\"DATABASE_URL\")\n",
    "\n",
    "# conn = psycopg2.connect(database_url)"
   ]
  },
  {
   "cell_type": "code",
   "execution_count": 20,
   "id": "09399229-1727-4005-a8cf-57081725b9c2",
   "metadata": {},
   "outputs": [],
   "source": [
    "# cur = conn.cursor()\n",
    "\n",
    "# # Replace the SQL statement with your specific table creation SQL\n",
    "# cur.execute(\"\"\"\n",
    "#     CREATE TABLE audio (\n",
    "#         username VARCHAR(255),\n",
    "#         creator VARCHAR(255),\n",
    "#         gameid INTEGER,\n",
    "#         timestamp DATE\n",
    "#     );\n",
    "# \"\"\")\n",
    "\n",
    "# conn.commit()  # Commit the transaction\n",
    "# cur.close()\n",
    "# conn.close()  # Close the connection"
   ]
  }
 ],
 "metadata": {
  "kernelspec": {
   "display_name": "Python 3 (ipykernel)",
   "language": "python",
   "name": "python3"
  },
  "language_info": {
   "codemirror_mode": {
    "name": "ipython",
    "version": 3
   },
   "file_extension": ".py",
   "mimetype": "text/x-python",
   "name": "python",
   "nbconvert_exporter": "python",
   "pygments_lexer": "ipython3",
   "version": "3.10.13"
  }
 },
 "nbformat": 4,
 "nbformat_minor": 5
}
